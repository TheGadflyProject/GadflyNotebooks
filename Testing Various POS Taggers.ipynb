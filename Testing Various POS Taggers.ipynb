{
 "cells": [
  {
   "cell_type": "code",
   "execution_count": 13,
   "metadata": {
    "collapsed": true
   },
   "outputs": [],
   "source": [
    "test_string = \"Daniel wrote, as Daniel would, “I am sure there is a meaningful sentence that includes more than two references to the same entity, Daniel”.\""
   ]
  },
  {
   "cell_type": "code",
   "execution_count": 14,
   "metadata": {
    "collapsed": false
   },
   "outputs": [
    {
     "data": {
      "text/plain": [
       "'Daniel wrote, as Daniel would, “I am sure there is a meaningful sentence that includes more than two references to the same entity, Daniel”.'"
      ]
     },
     "execution_count": 14,
     "metadata": {},
     "output_type": "execute_result"
    }
   ],
   "source": [
    "test_string"
   ]
  },
  {
   "cell_type": "markdown",
   "metadata": {},
   "source": [
    "### Default (uses TreebankWordTokenizer)"
   ]
  },
  {
   "cell_type": "code",
   "execution_count": 20,
   "metadata": {
    "collapsed": false,
    "scrolled": true
   },
   "outputs": [
    {
     "name": "stdout",
     "output_type": "stream",
     "text": [
      "['Daniel', 'wrote', ',', 'as', 'Daniel', 'would', ',', '“I', 'am', 'sure', 'there', 'is', 'a', 'meaningful', 'sentence', 'that', 'includes', 'more', 'than', 'two', 'references', 'to', 'the', 'same', 'entity', ',', 'Daniel”', '.']\n"
     ]
    }
   ],
   "source": [
    "from nltk.tokenize import word_tokenize\n",
    "treebank_tokens = word_tokenize(test_string)\n",
    "print(treebank_tokens)"
   ]
  },
  {
   "cell_type": "markdown",
   "metadata": {},
   "source": [
    "### PunktTokenizer "
   ]
  },
  {
   "cell_type": "code",
   "execution_count": 21,
   "metadata": {
    "collapsed": false
   },
   "outputs": [
    {
     "ename": "ImportError",
     "evalue": "cannot import name 'PunktWordTokenizer'",
     "output_type": "error",
     "traceback": [
      "\u001b[1;31m---------------------------------------------------------------------------\u001b[0m",
      "\u001b[1;31mImportError\u001b[0m                               Traceback (most recent call last)",
      "\u001b[1;32m<ipython-input-21-90f6201a52e9>\u001b[0m in \u001b[0;36m<module>\u001b[1;34m()\u001b[0m\n\u001b[1;32m----> 1\u001b[1;33m \u001b[1;32mfrom\u001b[0m \u001b[0mnltk\u001b[0m\u001b[1;33m.\u001b[0m\u001b[0mtokenize\u001b[0m \u001b[1;32mimport\u001b[0m \u001b[0mPunktWordTokenizer\u001b[0m\u001b[1;33m\u001b[0m\u001b[0m\n\u001b[0m\u001b[0;32m      2\u001b[0m \u001b[0mpunkt_word_tokenizer\u001b[0m \u001b[1;33m=\u001b[0m \u001b[0mPunktWordTokenizer\u001b[0m\u001b[1;33m(\u001b[0m\u001b[1;33m)\u001b[0m\u001b[1;33m\u001b[0m\u001b[0m\n\u001b[0;32m      3\u001b[0m \u001b[0mpunkt_word_tokens\u001b[0m \u001b[1;33m=\u001b[0m \u001b[0mpunkt_word_tokenizer\u001b[0m\u001b[1;33m.\u001b[0m\u001b[0mtokenize\u001b[0m\u001b[1;33m(\u001b[0m\u001b[0mtest_string\u001b[0m\u001b[1;33m)\u001b[0m\u001b[1;33m\u001b[0m\u001b[0m\n\u001b[0;32m      4\u001b[0m \u001b[0mprint\u001b[0m\u001b[1;33m(\u001b[0m\u001b[0mpunkt_word_tokens\u001b[0m\u001b[1;33m)\u001b[0m\u001b[1;33m\u001b[0m\u001b[0m\n",
      "\u001b[1;31mImportError\u001b[0m: cannot import name 'PunktWordTokenizer'"
     ]
    }
   ],
   "source": [
    "from nltk.tokenize import PunktWordTokenizer\n",
    "punkt_word_tokenizer = PunktWordTokenizer()\n",
    "punkt_word_tokens = punkt_word_tokenizer.tokenize(test_string)\n",
    "print(punkt_word_tokens)"
   ]
  },
  {
   "cell_type": "code",
   "execution_count": 22,
   "metadata": {
    "collapsed": false
   },
   "outputs": [
    {
     "name": "stdout",
     "output_type": "stream",
     "text": [
      "['Daniel', 'wrote', ',', 'as', 'Daniel', 'would', ',', '“', 'I', 'am', 'sure', 'there', 'is', 'a', 'meaningful', 'sentence', 'that', 'includes', 'more', 'than', 'two', 'references', 'to', 'the', 'same', 'entity', ',', 'Daniel', '”.']\n"
     ]
    }
   ],
   "source": [
    "from nltk.tokenize import WordPunctTokenizer\n",
    "word_punct_tokenizer = WordPunctTokenizer()\n",
    "word_punct_tokens = word_punct_tokenizer.tokenize(test_string)\n",
    "print(word_punct_tokens)"
   ]
  },
  {
   "cell_type": "code",
   "execution_count": 24,
   "metadata": {
    "collapsed": false
   },
   "outputs": [
    {
     "name": "stdout",
     "output_type": "stream",
     "text": [
      "[('Daniel', 'NNP'), ('wrote', 'VBD'), (',', ','), ('as', 'IN'), ('Daniel', 'NNP'), ('would', 'MD'), (',', ','), ('“', 'VB'), ('I', 'PRP'), ('am', 'VBP'), ('sure', 'JJ'), ('there', 'EX'), ('is', 'VBZ'), ('a', 'DT'), ('meaningful', 'JJ'), ('sentence', 'NN'), ('that', 'WDT'), ('includes', 'VBZ'), ('more', 'JJR'), ('than', 'IN'), ('two', 'CD'), ('references', 'NNS'), ('to', 'TO'), ('the', 'DT'), ('same', 'JJ'), ('entity', 'NN'), (',', ','), ('Daniel', 'NNP'), ('”.', 'NNP')]\n"
     ]
    }
   ],
   "source": [
    "from nltk import pos_tag\n",
    "print(pos_tag(word_punct_tokens))"
   ]
  },
  {
   "cell_type": "code",
   "execution_count": null,
   "metadata": {
    "collapsed": true
   },
   "outputs": [],
   "source": []
  }
 ],
 "metadata": {
  "kernelspec": {
   "display_name": "Python 3",
   "language": "python",
   "name": "python3"
  },
  "language_info": {
   "codemirror_mode": {
    "name": "ipython",
    "version": 3
   },
   "file_extension": ".py",
   "mimetype": "text/x-python",
   "name": "python",
   "nbconvert_exporter": "python",
   "pygments_lexer": "ipython3",
   "version": "3.5.1"
  }
 },
 "nbformat": 4,
 "nbformat_minor": 0
}
