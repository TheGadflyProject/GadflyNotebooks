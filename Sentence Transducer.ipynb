{
 "cells": [
  {
   "cell_type": "code",
   "execution_count": 1,
   "metadata": {
    "collapsed": true
   },
   "outputs": [],
   "source": [
    "import spacy"
   ]
  },
  {
   "cell_type": "code",
   "execution_count": 2,
   "metadata": {
    "collapsed": true
   },
   "outputs": [],
   "source": [
    "sent1 = \"Christopher Soghoian, principal technologist with the American Civil Liberties Union, said he wouldn’t \\\n",
    "speculate on why Soltani was being denied a job, though he did note that he published many stories that likely \\\n",
    "irked America’s intelligence officials.\""
   ]
  },
  {
   "cell_type": "code",
   "execution_count": 31,
   "metadata": {
    "collapsed": true
   },
   "outputs": [],
   "source": [
    "sent2 = \"Prime Minister Putin, country's paramount leader, cut short a trip to Siberia.\""
   ]
  },
  {
   "cell_type": "code",
   "execution_count": 93,
   "metadata": {
    "collapsed": true
   },
   "outputs": [],
   "source": [
    "sent3 = \"Prime Minister's assistant, country's paramount leader, cut short a trip to Siberia.\""
   ]
  },
  {
   "cell_type": "code",
   "execution_count": 32,
   "metadata": {
    "collapsed": true
   },
   "outputs": [],
   "source": [
    "sent3 = \"However, Jefferson did not believe the Embargo Act, which restricted trade with Europe, would hurt \\\n",
    "the American economy.\""
   ]
  },
  {
   "cell_type": "code",
   "execution_count": 5,
   "metadata": {
    "collapsed": false
   },
   "outputs": [],
   "source": [
    "nlp = spacy.en.English(serializer=False, matcher=False)"
   ]
  },
  {
   "cell_type": "code",
   "execution_count": 33,
   "metadata": {
    "collapsed": true
   },
   "outputs": [],
   "source": [
    "parsed_sent = nlp(sent2,tag=True, parse=True)"
   ]
  },
  {
   "cell_type": "code",
   "execution_count": 34,
   "metadata": {
    "collapsed": false
   },
   "outputs": [
    {
     "name": "stdout",
     "output_type": "stream",
     "text": [
      "<class 'spacy.tokens.doc.Doc'>\n"
     ]
    }
   ],
   "source": [
    "print(type(parsed_sent))"
   ]
  },
  {
   "cell_type": "code",
   "execution_count": null,
   "metadata": {
    "collapsed": false
   },
   "outputs": [],
   "source": [
    "for x in parsed_sent:\n",
    "    print(x.text, x.tag_)"
   ]
  },
  {
   "cell_type": "code",
   "execution_count": 38,
   "metadata": {
    "collapsed": false
   },
   "outputs": [
    {
     "name": "stdout",
     "output_type": "stream",
     "text": [
      "Prime NNP\n",
      "Minister NNP\n",
      "Putin NNP\n",
      ", ,\n",
      "country NN\n",
      "'s POS\n",
      "paramount JJ\n",
      "leader NN\n",
      ", ,\n",
      "cut VBD\n",
      "short RB\n",
      "a DT\n",
      "trip NN\n",
      "to IN\n",
      "Siberia NNP\n",
      ". .\n"
     ]
    }
   ],
   "source": [
    "for token in parsed_sent:\n",
    "    print(token.orth_,token.tag_ )\n",
    "#     print(token.head.orth_)"
   ]
  },
  {
   "cell_type": "code",
   "execution_count": 40,
   "metadata": {
    "collapsed": false
   },
   "outputs": [
    {
     "name": "stdout",
     "output_type": "stream",
     "text": [
      "Prime NNP Minister \n",
      "Minister NNP Putin\n",
      "Putin NNP cut \n",
      ", , Putin\n",
      "country NN leader\n",
      "'s POS country\n",
      "paramount JJ leader\n",
      "leader NN Putin\n",
      ", , cut \n",
      "cut VBD cut \n",
      "short RB cut \n",
      "a DT trip \n",
      "trip NN cut \n",
      "to IN trip \n",
      "Siberia NNP to \n",
      ". . cut \n"
     ]
    }
   ],
   "source": [
    "for token in parsed_sent:\n",
    "    print(token.orth_,token.tag_, token.head )\n",
    "#     print(token.head.orth_)"
   ]
  },
  {
   "cell_type": "code",
   "execution_count": null,
   "metadata": {
    "collapsed": true
   },
   "outputs": [],
   "source": [
    "def Traverse(root):\n",
    "    lchild = root.lefts\n",
    "    while lchild!=None:\n",
    "        L"
   ]
  },
  {
   "cell_type": "code",
   "execution_count": 60,
   "metadata": {
    "collapsed": false
   },
   "outputs": [
    {
     "data": {
      "text/plain": [
       "cut "
      ]
     },
     "execution_count": 60,
     "metadata": {},
     "output_type": "execute_result"
    }
   ],
   "source": [
    "for token in parsed_sent:\n",
    "    if token.head == token:\n",
    "        root_token = token\n",
    "root_token"
   ]
  },
  {
   "cell_type": "code",
   "execution_count": 48,
   "metadata": {
    "collapsed": false
   },
   "outputs": [
    {
     "name": "stdout",
     "output_type": "stream",
     "text": [
      "Putin\n",
      ", \n"
     ]
    }
   ],
   "source": [
    "while root_token.lefts:\n",
    "    root_token = token\n",
    "    print (token)\n",
    "    "
   ]
  },
  {
   "cell_type": "code",
   "execution_count": 55,
   "metadata": {
    "collapsed": false
   },
   "outputs": [],
   "source": [
    "for token1 in root_token.lefts:\n",
    "    print(token1)"
   ]
  },
  {
   "cell_type": "code",
   "execution_count": 63,
   "metadata": {
    "collapsed": false
   },
   "outputs": [
    {
     "name": "stdout",
     "output_type": "stream",
     "text": [
      "Putin\n",
      ", \n"
     ]
    }
   ],
   "source": [
    "for t in root_token.lefts:\n",
    "    print(t)"
   ]
  },
  {
   "cell_type": "code",
   "execution_count": 71,
   "metadata": {
    "collapsed": false
   },
   "outputs": [],
   "source": [
    "lchilds = []\n",
    "for t in root_token.lefts:\n",
    "    lchilds.append(t)"
   ]
  },
  {
   "cell_type": "code",
   "execution_count": 66,
   "metadata": {
    "collapsed": false
   },
   "outputs": [
    {
     "name": "stdout",
     "output_type": "stream",
     "text": [
      ", \n"
     ]
    }
   ],
   "source": [
    "for l in lchilds:\n",
    "    if l.pos_ == \"PUNCT\":\n",
    "        continue\n",
    "    l\n",
    "    "
   ]
  },
  {
   "cell_type": "code",
   "execution_count": 67,
   "metadata": {
    "collapsed": true
   },
   "outputs": [],
   "source": [
    "sent = []\n",
    "sent.append(root_token)"
   ]
  },
  {
   "cell_type": "code",
   "execution_count": 126,
   "metadata": {
    "collapsed": false
   },
   "outputs": [],
   "source": [
    "def GetLefts(root):\n",
    "    for L in root.lefts:\n",
    "        GetLefts(L)\n",
    "    if root.pos_ != \"PUNCT\": \n",
    "        print (root)"
   ]
  },
  {
   "cell_type": "code",
   "execution_count": 125,
   "metadata": {
    "collapsed": false
   },
   "outputs": [
    {
     "name": "stdout",
     "output_type": "stream",
     "text": [
      "Prime \n",
      "Minister \n",
      "Putin\n",
      "cut \n"
     ]
    }
   ],
   "source": [
    "GetLefts(root_token)"
   ]
  },
  {
   "cell_type": "code",
   "execution_count": 127,
   "metadata": {
    "collapsed": false
   },
   "outputs": [
    {
     "name": "stdout",
     "output_type": "stream",
     "text": [
      "cut \n"
     ]
    }
   ],
   "source": [
    "for x in GetLefts(root_token):\n",
    "    print (x)"
   ]
  },
  {
   "cell_type": "code",
   "execution_count": 110,
   "metadata": {
    "collapsed": false
   },
   "outputs": [],
   "source": [
    "def GetRights(root):\n",
    "    for R in root.rights:\n",
    "        GetRights(R)\n",
    "    if root.pos_ == \"PUNCT\" or root.pos_ == \"ADV\": \n",
    "        return\n",
    "    elif root.pos_ == \"NOUN\":\n",
    "        GetLefts(root)\n",
    "    else:\n",
    "        print (root)\n",
    "    "
   ]
  },
  {
   "cell_type": "code",
   "execution_count": 111,
   "metadata": {
    "collapsed": false
   },
   "outputs": [
    {
     "name": "stdout",
     "output_type": "stream",
     "text": [
      "Siberia\n",
      "to \n",
      "a \n",
      "trip \n",
      "cut \n"
     ]
    }
   ],
   "source": [
    "GetRights(root_token)"
   ]
  },
  {
   "cell_type": "code",
   "execution_count": 92,
   "metadata": {
    "collapsed": false
   },
   "outputs": [
    {
     "data": {
      "text/plain": [
       "."
      ]
     },
     "execution_count": 92,
     "metadata": {},
     "output_type": "execute_result"
    }
   ],
   "source": [
    "root_token.right_edge"
   ]
  },
  {
   "cell_type": "code",
   "execution_count": 97,
   "metadata": {
    "collapsed": false
   },
   "outputs": [
    {
     "name": "stdout",
     "output_type": "stream",
     "text": [
      "Putin\n",
      ", \n",
      "short \n",
      "trip \n",
      ".\n"
     ]
    }
   ],
   "source": [
    "for c in root_token.children:\n",
    "    print(c)"
   ]
  },
  {
   "cell_type": "code",
   "execution_count": null,
   "metadata": {
    "collapsed": true
   },
   "outputs": [],
   "source": []
  },
  {
   "cell_type": "code",
   "execution_count": null,
   "metadata": {
    "collapsed": true
   },
   "outputs": [],
   "source": []
  },
  {
   "cell_type": "code",
   "execution_count": null,
   "metadata": {
    "collapsed": true
   },
   "outputs": [],
   "source": []
  },
  {
   "cell_type": "code",
   "execution_count": null,
   "metadata": {
    "collapsed": true
   },
   "outputs": [],
   "source": []
  },
  {
   "cell_type": "code",
   "execution_count": null,
   "metadata": {
    "collapsed": true
   },
   "outputs": [],
   "source": []
  },
  {
   "cell_type": "code",
   "execution_count": null,
   "metadata": {
    "collapsed": true
   },
   "outputs": [],
   "source": []
  },
  {
   "cell_type": "code",
   "execution_count": 95,
   "metadata": {
    "collapsed": false
   },
   "outputs": [
    {
     "name": "stdout",
     "output_type": "stream",
     "text": [
      "Prime NNP NOUN Minister\n",
      "Minister NNP NOUN assistant\n",
      "'s POS PART Minister\n",
      "assistant NN NOUN cut \n",
      ", , PUNCT assistant\n",
      "country NN NOUN leader\n",
      "'s POS PART country\n",
      "paramount JJ ADJ leader\n",
      "leader NN NOUN cut \n",
      ", , PUNCT leader\n",
      "cut VBD VERB cut \n",
      "short RB ADV cut \n",
      "a DT DET trip \n",
      "trip NN NOUN cut \n",
      "to IN ADP trip \n",
      "Siberia NNP NOUN to \n",
      ". . PUNCT cut \n"
     ]
    }
   ],
   "source": [
    "parsed_sent2 = nlp(sent3,tag=True, parse=True)\n",
    "for token in parsed_sent2:\n",
    "    print(token.orth_,token.tag_,token.pos_, token.head )"
   ]
  }
 ],
 "metadata": {
  "kernelspec": {
   "display_name": "Python 3",
   "language": "python",
   "name": "python3"
  },
  "language_info": {
   "codemirror_mode": {
    "name": "ipython",
    "version": 3
   },
   "file_extension": ".py",
   "mimetype": "text/x-python",
   "name": "python",
   "nbconvert_exporter": "python",
   "pygments_lexer": "ipython3",
   "version": "3.5.1"
  }
 },
 "nbformat": 4,
 "nbformat_minor": 0
}
