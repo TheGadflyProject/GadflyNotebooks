{
 "cells": [
  {
   "cell_type": "code",
   "execution_count": 1,
   "metadata": {
    "collapsed": true
   },
   "outputs": [],
   "source": [
    "from spacy.en import English"
   ]
  },
  {
   "cell_type": "code",
   "execution_count": 28,
   "metadata": {
    "collapsed": true
   },
   "outputs": [],
   "source": [
    "SOURCE_TEXT = \"\"\"In the constant scorekeeping of where tech’s\n",
    "power centers are, two trends stand out in Asia: the continued rise of\n",
    "China as a tech titan and the slow decline of Japan’s once-mighty\n",
    "tech industry.\n",
    "\n",
    "Those currents were evident in two recent developments.\n",
    "\n",
    "On Thursday, Paul Mozur and Jane Perlez reported that American\n",
    "officials had blocked a proposed purchase of a controlling stake in a\n",
    "unit of the Dutch electronics company Philips by Chinese investors\n",
    "because the United States was fearful the deal would be used to\n",
    "further China’s push into microchips.\n",
    "\n",
    "At the center of the concerns was a material called gallium nitride,\n",
    "which was being used by the Philips unit in light-emitting diodes, but\n",
    "which has applications for military and space and can be helpful in\n",
    "semiconductors. The report illustrated how American officials have\n",
    "come to view China’s large and growing tech industry with misgivings.\n",
    "\n",
    "At the same time, Jonathan Soble and Paul Mozur reported that Sharp,\n",
    "one of Japan’s large consumer electronics companies and the biggest\n",
    "LCD producer, was leaning toward a takeover offer from the Taiwanese\n",
    "contract manufacturer Foxconn. The news underlined the decline of\n",
    "Japan’s once-famed consumer electronics companies, which have been\n",
    "undercut in recent years by lower-cost competition from China and\n",
    "South Korea.\"\"\""
   ]
  },
  {
   "cell_type": "code",
   "execution_count": 36,
   "metadata": {
    "collapsed": true
   },
   "outputs": [],
   "source": [
    "SOURCE_TEXT = \"\"\"DisplaCy uses CSS and Javascript to show you how computers understand language.\"\"\""
   ]
  },
  {
   "cell_type": "code",
   "execution_count": 37,
   "metadata": {
    "collapsed": false
   },
   "outputs": [],
   "source": [
    "parser = English()\n",
    "parsed  = parser(SOURCE_TEXT)"
   ]
  },
  {
   "cell_type": "code",
   "execution_count": 44,
   "metadata": {
    "collapsed": false
   },
   "outputs": [
    {
     "name": "stdout",
     "output_type": "stream",
     "text": [
      "DisplaCy uses nsubj PRODUCT NNP\n",
      "uses uses ROOT  VBZ\n",
      "CSS uses dobj PRODUCT NNP\n",
      "and CSS cc  CC\n",
      "Javascript CSS conj PRODUCT NNP\n",
      "to show aux  TO\n",
      "show uses xcomp  VB\n",
      "you show dobj  PRP\n",
      "how understand advmod  WRB\n",
      "computers understand nsubj  NNS\n",
      "understand show ccomp  VBP\n",
      "language understand dobj  NN\n",
      ". uses punct  .\n"
     ]
    }
   ],
   "source": [
    "for sent in parsed.sents:\n",
    "    for token in parsed[sent.start:sent.end+1]:\n",
    "        print(token.orth_, token.head.orth_, token.dep_, token.ent_type_, token.)"
   ]
  },
  {
   "cell_type": "code",
   "execution_count": 14,
   "metadata": {
    "collapsed": false
   },
   "outputs": [
    {
     "name": "stdout",
     "output_type": "stream",
     "text": [
      "that American\n",
      "officials had blocked a proposed purchase of a controlling stake in a\n",
      "unit of the Dutch electronics company Philips by Chinese investors\n",
      "because the United States was fearful the deal would be used to\n",
      "further China’s push into microchips\n",
      "to\n",
      "further China’s push into microchips\n"
     ]
    }
   ],
   "source": [
    "for word in parsed:\n",
    "    if word.dep_ in ('xcomp', 'ccomp'):\n",
    "        print(\"\".join(w.text_with_ws for w in word.subtree))"
   ]
  },
  {
   "cell_type": "code",
   "execution_count": null,
   "metadata": {
    "collapsed": true
   },
   "outputs": [],
   "source": []
  }
 ],
 "metadata": {
  "kernelspec": {
   "display_name": "Python 3",
   "language": "python",
   "name": "python3"
  },
  "language_info": {
   "codemirror_mode": {
    "name": "ipython",
    "version": 3
   },
   "file_extension": ".py",
   "mimetype": "text/x-python",
   "name": "python",
   "nbconvert_exporter": "python",
   "pygments_lexer": "ipython3",
   "version": "3.5.1"
  }
 },
 "nbformat": 4,
 "nbformat_minor": 0
}
